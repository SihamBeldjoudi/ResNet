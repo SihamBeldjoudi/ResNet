import torch
import torch.nn as nn
import torch.optim as optim
import torchvision
import torchvision.transforms as transforms
import torch.nn.functional as F
import matplotlib.pyplot as plt

import random
import numpy as np

# Training setup
batch_size = 64
transform = transforms.Compose([
    transforms.ToTensor(),
    transforms.Normalize((0.5, 0.5, 0.5), (0.5, 0.5, 0.5))
])

trainset = torchvision.datasets.CIFAR10(root='./data', train=True, download=True, transform=transform)
trainloader = torch.utils.data.DataLoader(trainset, batch_size=batch_size, shuffle=True)

testset = torchvision.datasets.CIFAR10(root='./data', train=False, download=True, transform=transform)
testloader = torch.utils.data.DataLoader(testset, batch_size=batch_size, shuffle=False)

device = torch.device("cuda" if torch.cuda.is_available() else "cpu")

class ConvRNN(nn.Module):
    def __init__(self, in_channels, hidden_channels):
        super(ConvRNN, self).__init__()
        self.hidden_channels = hidden_channels
        self.conv_x = nn.Conv2d(in_channels + hidden_channels, hidden_channels, kernel_size=3, padding=1)

    def forward(self, x, h):
        if h is None or h.shape[1] != self.hidden_channels:
            h = torch.zeros(x.shape[0], self.hidden_channels, x.shape[2], x.shape[3], device=x.device)

        x = torch.cat([x, h], dim=1)
        x = self.conv_x(x)
        return torch.tanh(x)
class BasicRNNBlock(nn.Module):
    expansion = 1

    def __init__(self, in_planes, planes, rnn_module, stride=1):
        super(BasicRNNBlock, self).__init__()
        self.conv1 = nn.Conv2d(in_planes, planes, kernel_size=3, stride=stride, padding=1, bias=False)
        self.bn1 = nn.BatchNorm2d(planes)

        self.rnn = rnn_module(planes, planes)

        self.conv2 = nn.Conv2d(planes, planes, kernel_size=3, stride=1, padding=1, bias=False)
        self.bn2 = nn.BatchNorm2d(planes)

        self.shortcut = nn.Sequential()
        if stride != 1 or in_planes != self.expansion * planes:
            self.shortcut = nn.Sequential(
                nn.Conv2d(in_planes, self.expansion * planes, kernel_size=1, stride=stride, bias=False),
                nn.BatchNorm2d(self.expansion * planes)
            )

    def forward(self, x, h):
        identity = self.shortcut(x)
        out = F.relu(self.bn1(self.conv1(x)))
        h = self.rnn(out, h)
        out = self.bn2(self.conv2(h))
        out += identity
        return F.relu(out), h

class ResNetRNN(nn.Module):
    def __init__(self, block, num_blocks, num_classes=10, rnn_module=ConvRNN):
        super(ResNetRNN, self).__init__()
        self.in_planes = 16

        self.conv1 = nn.Conv2d(3, 16, kernel_size=3, stride=1, padding=1, bias=False)
        self.bn1 = nn.BatchNorm2d(16)

        self.layer1 = self._make_layer(block, 16, num_blocks[0], stride=1, rnn_module=rnn_module)
        self.layer2 = self._make_layer(block, 32, num_blocks[1], stride=2, rnn_module=rnn_module)
        self.layer3 = self._make_layer(block, 64, num_blocks[2], stride=2, rnn_module=rnn_module)
        self.linear = nn.Linear(64 * block.expansion, num_classes)

    def _make_layer(self, block, planes, num_blocks, stride, rnn_module):
        strides = [stride] + [1] * (num_blocks - 1)
        layers = []
        for stride in strides:
            layers.append(block(self.in_planes, planes, rnn_module, stride))
            self.in_planes = planes * block.expansion
        return nn.ModuleList(layers)

    def forward(self, x):
        x = F.relu(self.bn1(self.conv1(x)))
        h = None

        for layer in [self.layer1, self.layer2, self.layer3]:
            for block in layer:
                x, h = block(x, h)

        x = F.avg_pool2d(x, 8)
        x = x.view(x.size(0), -1)
        return self.linear(x)

def adjust_learning_rate(optimizer, epoch):
    if epoch >= 80:
        lr = 0.01
    else:
        lr = 0.1
    for param_group in optimizer.param_groups:
        param_group['lr'] = lr

def train_model(rnn_module, epochs):
    model = ResNetRNN(BasicRNNBlock, [3, 3, 3], rnn_module=rnn_module).to(device)
    optimizer = optim.SGD(model.parameters(), lr=0.1, momentum=0.9, weight_decay=1e-4)
    criterion = nn.CrossEntropyLoss()
    train_losses = []
    val_losses = []

    for epoch in range(epochs):
        adjust_learning_rate(optimizer, epoch)
        model.train()
        running_loss = 0.0
        for inputs, targets in trainloader:
            inputs, targets = inputs.to(device), targets.to(device)
            optimizer.zero_grad()
            outputs = model(inputs)
            loss = criterion(outputs, targets)
            loss.backward()
            optimizer.step()
            running_loss += loss.item()


        train_losses.append(running_loss / len(trainloader))


        model.eval()
        val_loss = 0.0
        correct = 0
        total = 0
        with torch.no_grad():
            for inputs, targets in testloader:
                inputs, targets = inputs.to(device), targets.to(device)
                outputs = model(inputs)
                loss = criterion(outputs, targets)
                val_loss += loss.item()
                _, predicted = outputs.max(1)
                total += targets.size(0)
                correct += predicted.eq(targets).sum().item()


        val_losses.append(val_loss / len(testloader))
        val_accuracy = 100. * correct / total
        current_lr = optimizer.param_groups[0]['lr']
        print(f"Epoch: {epoch + 1}, Learning Rate: {current_lr}, Val Accuracy: {val_accuracy:.2f}%, Val Loss: {val_loss:.3f}")


    return model, train_losses, val_losses


train_losses, val_losses = train_model(ConvRNN, epochs=150)

